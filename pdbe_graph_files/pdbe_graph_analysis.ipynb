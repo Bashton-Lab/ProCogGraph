{
 "cells": [
  {
   "cell_type": "markdown",
   "id": "49b8750a-2fa2-4257-a3cc-92b75025d235",
   "metadata": {},
   "source": [
    "In this notebook, an analysis of the data available from PDBe-graph is performed, and combined with data from KEGG and ligand similarity scoring, as well as benchmarking against the analysis performed in PARITY (2018). "
   ]
  },
  {
   "cell_type": "code",
   "execution_count": 3,
   "id": "9aea8e8a-816e-403a-ad50-3cc1dc7b5f0f",
   "metadata": {},
   "outputs": [
    {
     "name": "stdout",
     "output_type": "stream",
     "text": [
      "Neo4j python package version: 5.10.0\n"
     ]
    }
   ],
   "source": [
    "from neo4j import __version__ as neo4j_version\n",
    "print(f\"Neo4j python package version: {neo4j_version}\")\n",
    "#class is from https://towardsdatascience.com/neo4j-cypher-python-7a919a372be7\n",
    "import pandas as pd\n",
    "from neo4j import GraphDatabase\n",
    "class Neo4jConnection:\n",
    "    \n",
    "    def __init__(self, uri, user, pwd):\n",
    "        self.__uri = uri\n",
    "        self.__user = user\n",
    "        self.__pwd = pwd\n",
    "        self.__driver = None\n",
    "        try:\n",
    "            self.__driver = GraphDatabase.driver(self.__uri, auth=(self.__user, self.__pwd))\n",
    "        except Exception as e:\n",
    "            print(\"Failed to create the driver:\", e)\n",
    "        \n",
    "    def close(self):\n",
    "        if self.__driver is not None:\n",
    "            self.__driver.close()\n",
    "        \n",
    "    def query(self, query, db=None):\n",
    "        assert self.__driver is not None, \"Driver not initialized!\"\n",
    "        session = None\n",
    "        response = None\n",
    "        try: \n",
    "            session = self.__driver.session(database=db) if db is not None else self.__driver.session() \n",
    "            response = list(session.run(query))\n",
    "        except Exception as e:\n",
    "            print(\"Query failed:\", e)\n",
    "        finally: \n",
    "            if session is not None:\n",
    "                session.close()\n",
    "        return response"
   ]
  },
  {
   "cell_type": "code",
   "execution_count": 24,
   "id": "afe437d8-ba15-4b21-84b4-b48f5e3f59f5",
   "metadata": {},
   "outputs": [],
   "source": [
    "def return_partial_EC_list(ec, total_ec_list):\n",
    "    if not isinstance(ec, str) and np.isnan(ec):\n",
    "        return np.nan\n",
    "    elif \"-\" in ec:\n",
    "        replacement_character = r'.'\n",
    "        modified_ec = re.sub(r'\\.', r\"_\", ec)\n",
    "        modified_ec = modified_ec.replace(\"-\", \".\")\n",
    "        total_ec_list = [re.sub(r'\\.', r\"_\", item) for item in total_ec_list]\n",
    "        # Use re.match() to check if the modified string matches any item in the match_list\n",
    "        matching_ec = [ec for ec in total_ec_list if re.match(modified_ec, ec)]\n",
    "        matching_ec = [re.sub(r'_', r\".\", item) for item in matching_ec]\n",
    "        return(matching_ec)\n",
    "    else:\n",
    "        return [ec]\n",
    "    \n",
    "def parse_table_data(elem):\n",
    "    data = {}\n",
    "    for row in elem.findall('row'):\n",
    "        row_data = {}\n",
    "        for field in row.findall('field'):\n",
    "            row_data[field.attrib['name']] = field.text\n",
    "        data[len(data)] = row_data\n",
    "    return data\n",
    "\n",
    "import pandas as pd\n",
    "import xml.etree.ElementTree as ET\n",
    "import re"
   ]
  },
  {
   "cell_type": "markdown",
   "id": "2d545797-ac42-4b7b-bfc3-3957d99f0578",
   "metadata": {},
   "source": [
    "Connect to the database:"
   ]
  },
  {
   "cell_type": "code",
   "execution_count": 5,
   "id": "49116e6a-2559-4a92-9b7c-139f70aeedd6",
   "metadata": {},
   "outputs": [],
   "source": [
    "conn = Neo4jConnection(uri=\"bolt://localhost:7687\", user=\"neo4j\", pwd=\"yTJutYQ$$d%!9h\")"
   ]
  },
  {
   "cell_type": "code",
   "execution_count": 122,
   "id": "1965fb18-270b-488c-a2a6-8ecf68ff0284",
   "metadata": {},
   "outputs": [],
   "source": [
    "node_count_query = \"\"\"\n",
    "MATCH (n)\n",
    "RETURN COUNT(DISTINCT labels(n)) AS totalUniqueNodeLabels\"\"\"\n",
    "node_count = pd.DataFrame([dict(_) for _ in conn.query(node_count_query, db='neo4j')])"
   ]
  },
  {
   "cell_type": "code",
   "execution_count": 123,
   "id": "68eb565a-ca88-4d8b-845b-427462a5472d",
   "metadata": {},
   "outputs": [
    {
     "data": {
      "text/plain": [
       "'\\nMATCH (n)\\nRETURN COUNT(DISTINCT labels(n)) AS totalUniqueNodeLabels'"
      ]
     },
     "execution_count": 123,
     "metadata": {},
     "output_type": "execute_result"
    }
   ],
   "source": [
    "node_count_query"
   ]
  },
  {
   "cell_type": "code",
   "execution_count": 121,
   "id": "14764e2e-766f-45e1-8236-3b03822c48e0",
   "metadata": {},
   "outputs": [],
   "source": [
    "rel_count_query = \"\"\"\n",
    "MATCH ()-[r]->()\n",
    "RETURN COUNT(DISTINCT TYPE(r)) AS totalUniqueRelationshipTypes\"\"\"\n",
    "rel_count = pd.DataFrame([dict(_) for _ in conn.query(rel_count_query, db='neo4j')])"
   ]
  },
  {
   "cell_type": "code",
   "execution_count": 125,
   "id": "8f839129-2e7b-47be-a8fd-84c8ea3defd6",
   "metadata": {},
   "outputs": [
    {
     "data": {
      "text/plain": [
       "'\\nMATCH ()-[r]->()\\nRETURN COUNT(DISTINCT TYPE(r)) AS totalUniqueRelationshipTypes'"
      ]
     },
     "execution_count": 125,
     "metadata": {},
     "output_type": "execute_result"
    }
   ],
   "source": [
    "rel_count_query"
   ]
  },
  {
   "cell_type": "markdown",
   "id": "525782a3-335b-4ac4-8d4b-999c9d935fcf",
   "metadata": {},
   "source": [
    "How many PDB entries are there in total in the dataset and what is the breakdown of these?"
   ]
  },
  {
   "cell_type": "code",
   "execution_count": 117,
   "id": "f2970816-95e2-4870-9579-0ce075087ac5",
   "metadata": {},
   "outputs": [],
   "source": [
    "ec_entries_query = \"\"\"\n",
    "MATCH (a:Entry) \n",
    "RETURN \"PDB entries\" as Val, count(DISTINCT(a.ID)) \n",
    "UNION\n",
    "MATCH (a:Entry)-[:HAS_ENTITY]->(e:Entity) WHERE e.TYPE = \"p\" AND e.POLYMER_TYPE = \"P\" \n",
    "RETURN \"Unique Entries with protein polymers\" as Val, count(DISTINCT(a.ID)) \n",
    "UNION\n",
    "MATCH (b:BoundLigand)<-[:IS_AN_INSTANCE_OF]-(p:Entity)<-[:HAS_ENTITY]-(a:Entry)-[:HAS_ENTITY]->(e:Entity) WHERE NOT p.CHEM_COMP_LIST in [\"UNX\", \"UNL\"] AND e.TYPE = \"p\" AND e.POLYMER_TYPE = \"P\" \n",
    "RETURN \"Unique Entries with protein polymers and bound ligands\" as Val, count(DISTINCT(a.ID)) \n",
    "UNION\n",
    "MATCH (b:BoundLigand)<-[:IS_AN_INSTANCE_OF]-(p:Entity)<-[:HAS_ENTITY]-(a:Entry)-[:HAS_ENTITY]->(e:Entity) WHERE NOT p.CHEM_COMP_LIST in [\"UNX\", \"UNL\"] AND e.TYPE = \"p\" AND e.POLYMER_TYPE = \"P\" and e.EC IS NOT NULL \n",
    "RETURN \"Unique Entries with protein polymers, EC number and BoundLigands\" as Val, count(DISTINCT(a.ID))\n",
    "UNION\n",
    "MATCH (b:BoundLigand)<-[:IS_AN_INSTANCE_OF]-(p:Entity)<-[:HAS_ENTITY]-(a:Entry)-[:HAS_ENTITY]->(e:Entity) WHERE NOT p.CHEM_COMP_LIST in [\"UNX\", \"UNL\"] AND e.TYPE = \"p\" AND e.POLYMER_TYPE = \"P\" and e.EC IS NOT NULL AND p.TYPE = \"b\" and p.POLYMER_TYPE = \"B\" \n",
    "RETURN \"Unique Entries with protein polymers, EC number and BoundLigands which are B\" as Val, count(DISTINCT(a.ID))\n",
    "UNION\n",
    "MATCH (b:BoundLigand)<-[:IS_AN_INSTANCE_OF]-(p:Entity)<-[:HAS_ENTITY]-(a:Entry)-[:HAS_ENTITY]->(e:Entity) WHERE NOT p.CHEM_COMP_LIST in [\"UNX\", \"UNL\"] AND e.TYPE = \"p\" AND e.POLYMER_TYPE = \"P\" and e.EC IS NOT NULL AND p.TYPE = \"s\" and p.POLYMER_TYPE = \"S\" \n",
    "RETURN \"Unique Entries with protein polymers, EC number and BoundLigands which are S\" as Val, count(DISTINCT(a.ID))\n",
    "\"\"\"\n",
    "ec_pdb_entries = pd.DataFrame([dict(_) for _ in conn.query(ec_entries_query, db='neo4j')])"
   ]
  },
  {
   "cell_type": "code",
   "execution_count": 118,
   "id": "ccd2e1c3-46e3-433e-ac83-1dd117c4ad57",
   "metadata": {},
   "outputs": [],
   "source": [
    "ec_entries_no_bl_query = \"\"\"MATCH (a:Entry)-[:HAS_ENTITY]->(e:Entity) WHERE e.TYPE = \"p\" AND e.POLYMER_TYPE = \"P\" and e.EC IS NOT NULL \n",
    "RETURN \"Unique Entries with protein polymers, EC number\" as Val, count(DISTINCT(a.ID))\"\"\"\n",
    "ec_entries_no_bl = pd.DataFrame([dict(_) for _ in conn.query(ec_entries_no_bl_query, db='neo4j')])"
   ]
  },
  {
   "cell_type": "code",
   "execution_count": 119,
   "id": "8445ffc8-1b4f-4b26-98af-a0e6f46bdba2",
   "metadata": {},
   "outputs": [
    {
     "data": {
      "text/html": [
       "<div>\n",
       "<style scoped>\n",
       "    .dataframe tbody tr th:only-of-type {\n",
       "        vertical-align: middle;\n",
       "    }\n",
       "\n",
       "    .dataframe tbody tr th {\n",
       "        vertical-align: top;\n",
       "    }\n",
       "\n",
       "    .dataframe thead th {\n",
       "        text-align: right;\n",
       "    }\n",
       "</style>\n",
       "<table border=\"1\" class=\"dataframe\">\n",
       "  <thead>\n",
       "    <tr style=\"text-align: right;\">\n",
       "      <th></th>\n",
       "      <th>Val</th>\n",
       "      <th>count(DISTINCT(a.ID))</th>\n",
       "    </tr>\n",
       "  </thead>\n",
       "  <tbody>\n",
       "    <tr>\n",
       "      <th>0</th>\n",
       "      <td>Unique Entries with protein polymers, EC number</td>\n",
       "      <td>92864</td>\n",
       "    </tr>\n",
       "  </tbody>\n",
       "</table>\n",
       "</div>"
      ],
      "text/plain": [
       "                                               Val  count(DISTINCT(a.ID))\n",
       "0  Unique Entries with protein polymers, EC number                  92864"
      ]
     },
     "execution_count": 119,
     "metadata": {},
     "output_type": "execute_result"
    }
   ],
   "source": [
    "ec_entries_no_bl"
   ]
  },
  {
   "cell_type": "code",
   "execution_count": 120,
   "id": "63d876e0-ae5d-4a65-b028-6d9d260b9d12",
   "metadata": {},
   "outputs": [
    {
     "data": {
      "text/html": [
       "<div>\n",
       "<style scoped>\n",
       "    .dataframe tbody tr th:only-of-type {\n",
       "        vertical-align: middle;\n",
       "    }\n",
       "\n",
       "    .dataframe tbody tr th {\n",
       "        vertical-align: top;\n",
       "    }\n",
       "\n",
       "    .dataframe thead th {\n",
       "        text-align: right;\n",
       "    }\n",
       "</style>\n",
       "<table border=\"1\" class=\"dataframe\">\n",
       "  <thead>\n",
       "    <tr style=\"text-align: right;\">\n",
       "      <th></th>\n",
       "      <th>Val</th>\n",
       "      <th>count(DISTINCT(a.ID))</th>\n",
       "    </tr>\n",
       "  </thead>\n",
       "  <tbody>\n",
       "    <tr>\n",
       "      <th>0</th>\n",
       "      <td>PDB entries</td>\n",
       "      <td>200708</td>\n",
       "    </tr>\n",
       "    <tr>\n",
       "      <th>1</th>\n",
       "      <td>Unique Entries with protein polymers</td>\n",
       "      <td>196495</td>\n",
       "    </tr>\n",
       "    <tr>\n",
       "      <th>2</th>\n",
       "      <td>Unique Entries with protein polymers and bound...</td>\n",
       "      <td>150497</td>\n",
       "    </tr>\n",
       "    <tr>\n",
       "      <th>3</th>\n",
       "      <td>Unique Entries with protein polymers, EC numbe...</td>\n",
       "      <td>80796</td>\n",
       "    </tr>\n",
       "    <tr>\n",
       "      <th>4</th>\n",
       "      <td>Unique Entries with protein polymers, EC numbe...</td>\n",
       "      <td>80409</td>\n",
       "    </tr>\n",
       "    <tr>\n",
       "      <th>5</th>\n",
       "      <td>Unique Entries with protein polymers, EC numbe...</td>\n",
       "      <td>4173</td>\n",
       "    </tr>\n",
       "  </tbody>\n",
       "</table>\n",
       "</div>"
      ],
      "text/plain": [
       "                                                 Val  count(DISTINCT(a.ID))\n",
       "0                                        PDB entries                 200708\n",
       "1               Unique Entries with protein polymers                 196495\n",
       "2  Unique Entries with protein polymers and bound...                 150497\n",
       "3  Unique Entries with protein polymers, EC numbe...                  80796\n",
       "4  Unique Entries with protein polymers, EC numbe...                  80409\n",
       "5  Unique Entries with protein polymers, EC numbe...                   4173"
      ]
     },
     "execution_count": 120,
     "metadata": {},
     "output_type": "execute_result"
    }
   ],
   "source": [
    "ec_pdb_entries"
   ]
  },
  {
   "cell_type": "code",
   "execution_count": 51,
   "id": "d1fee307-2d95-481b-b00a-18f55796b510",
   "metadata": {},
   "outputs": [],
   "source": [
    "ec_pdb_entries.to_csv(\"ec_pdb_entries_info.txt\")"
   ]
  },
  {
   "cell_type": "markdown",
   "id": "725e29ce-80fe-49fa-bbd1-fb8d11c4e8e2",
   "metadata": {},
   "source": [
    "What are the types of entities in the PDBe-Graph? "
   ]
  },
  {
   "cell_type": "code",
   "execution_count": 30,
   "id": "3a5655ec-a72d-487b-8cf6-a8614e929ac3",
   "metadata": {},
   "outputs": [],
   "source": [
    "entity_types_query = \"\"\"\n",
    "MATCH (e:Entity)\n",
    "RETURN DISTINCT(e.TYPE)\"\"\"\n",
    "entity_types_data = pd.DataFrame([dict(_) for _ in conn.query(entity_types_query, db='neo4j')])"
   ]
  },
  {
   "cell_type": "code",
   "execution_count": 31,
   "id": "4fc186fd-1506-4d5f-920b-c0a4933eb0a3",
   "metadata": {},
   "outputs": [
    {
     "data": {
      "text/html": [
       "<div>\n",
       "<style scoped>\n",
       "    .dataframe tbody tr th:only-of-type {\n",
       "        vertical-align: middle;\n",
       "    }\n",
       "\n",
       "    .dataframe tbody tr th {\n",
       "        vertical-align: top;\n",
       "    }\n",
       "\n",
       "    .dataframe thead th {\n",
       "        text-align: right;\n",
       "    }\n",
       "</style>\n",
       "<table border=\"1\" class=\"dataframe\">\n",
       "  <thead>\n",
       "    <tr style=\"text-align: right;\">\n",
       "      <th></th>\n",
       "      <th>(e.TYPE)</th>\n",
       "    </tr>\n",
       "  </thead>\n",
       "  <tbody>\n",
       "    <tr>\n",
       "      <th>0</th>\n",
       "      <td>p</td>\n",
       "    </tr>\n",
       "    <tr>\n",
       "      <th>1</th>\n",
       "      <td>b</td>\n",
       "    </tr>\n",
       "    <tr>\n",
       "      <th>2</th>\n",
       "      <td>s</td>\n",
       "    </tr>\n",
       "    <tr>\n",
       "      <th>3</th>\n",
       "      <td>w</td>\n",
       "    </tr>\n",
       "  </tbody>\n",
       "</table>\n",
       "</div>"
      ],
      "text/plain": [
       "  (e.TYPE)\n",
       "0        p\n",
       "1        b\n",
       "2        s\n",
       "3        w"
      ]
     },
     "execution_count": 31,
     "metadata": {},
     "output_type": "execute_result"
    }
   ],
   "source": [
    "entity_types_data"
   ]
  },
  {
   "cell_type": "markdown",
   "id": "63538a20-f865-48ea-8d2e-6e73996a3d28",
   "metadata": {},
   "source": [
    "Describe what these mean now"
   ]
  },
  {
   "cell_type": "markdown",
   "id": "d85f3c1e-c26f-4c02-92b3-431930a3b4ee",
   "metadata": {},
   "source": [
    "The chemical component descriptor nodes in the graph can be used to access InChI or SMILES string representations of the ligands. How many bound ligands in the graph have an InChi or SMILES representation?"
   ]
  },
  {
   "cell_type": "code",
   "execution_count": 26,
   "id": "76bc1de9-c79b-49ce-a5cd-89ea9c17b6c4",
   "metadata": {},
   "outputs": [],
   "source": [
    "bl_entries_query = \"\"\"\n",
    "MATCH (p:Entity)-[:IS_AN_INSTANCE_OF]->(bl:BoundLigand) \n",
    "RETURN \"Bound Ligands\" as Val, count(DISTINCT(p.UNIQID)) \n",
    "UNION\n",
    "MATCH (cc:ChemicalComponent)<-[:IS_A]-(p:Entity)-[:IS_AN_INSTANCE_OF]->(bl:BoundLigand) \n",
    "RETURN \"Bound Ligand Entities which are chem comps\" as Val, count(DISTINCT(p.UNIQID))\n",
    "UNION\n",
    "MATCH (d:ChemicalComponentDesc)<-[:DESCRIBED_BY]-(cc:ChemicalComponent)<-[:IS_A]-(p:Entity),(p)-[:IS_AN_INSTANCE_OF]->(bl:BoundLigand)\n",
    "RETURN \"Bound ligands with chem comp desc\" as Val, count(DISTINCT(p.UNIQID))\n",
    "UNION\n",
    "MATCH (d:ChemicalComponentDesc)<-[:DESCRIBED_BY]-(cc:ChemicalComponent)<-[:IS_A]-(p:Entity),(p)-[:IS_AN_INSTANCE_OF]->(bl:BoundLigand)\n",
    "WHERE d.TYPE in [\"InChI\",\"SMILES\"] AND d.DESCRIPTOR IS NOT NULL AND cc.ID <> \"UNL\"\n",
    "RETURN \"Bound ligands described by InChI or SMILES\" as Val, count(DISTINCT(p.UNIQID))\n",
    "UNION\n",
    "MATCH (cc:ChemicalComponent)<-[:IS_A]-(p:Entity),(p)-[:IS_AN_INSTANCE_OF]->(bl:BoundLigand)\n",
    "WHERE cc.ID = \"UNL\"\n",
    "RETURN \"Unknown Bound ligands\" as Val, count(DISTINCT(p.UNIQID))\n",
    "\"\"\"\n",
    "bl_entries = pd.DataFrame([dict(_) for _ in conn.query(bl_entries_query, db='neo4j')])"
   ]
  },
  {
   "cell_type": "code",
   "execution_count": 27,
   "id": "18a76191-59d2-4ac3-bf88-155231815d04",
   "metadata": {},
   "outputs": [
    {
     "data": {
      "text/html": [
       "<div>\n",
       "<style scoped>\n",
       "    .dataframe tbody tr th:only-of-type {\n",
       "        vertical-align: middle;\n",
       "    }\n",
       "\n",
       "    .dataframe tbody tr th {\n",
       "        vertical-align: top;\n",
       "    }\n",
       "\n",
       "    .dataframe thead th {\n",
       "        text-align: right;\n",
       "    }\n",
       "</style>\n",
       "<table border=\"1\" class=\"dataframe\">\n",
       "  <thead>\n",
       "    <tr style=\"text-align: right;\">\n",
       "      <th></th>\n",
       "      <th>Val</th>\n",
       "      <th>count(DISTINCT(p.UNIQID))</th>\n",
       "    </tr>\n",
       "  </thead>\n",
       "  <tbody>\n",
       "    <tr>\n",
       "      <th>0</th>\n",
       "      <td>Bound Ligands</td>\n",
       "      <td>376331</td>\n",
       "    </tr>\n",
       "    <tr>\n",
       "      <th>1</th>\n",
       "      <td>Bound Ligand Entities which are chem comps</td>\n",
       "      <td>376331</td>\n",
       "    </tr>\n",
       "    <tr>\n",
       "      <th>2</th>\n",
       "      <td>Bound ligands with chem comp desc</td>\n",
       "      <td>375856</td>\n",
       "    </tr>\n",
       "    <tr>\n",
       "      <th>3</th>\n",
       "      <td>Bound ligands described by InChI or SMILES</td>\n",
       "      <td>375856</td>\n",
       "    </tr>\n",
       "    <tr>\n",
       "      <th>4</th>\n",
       "      <td>Unknown Bound ligands</td>\n",
       "      <td>475</td>\n",
       "    </tr>\n",
       "  </tbody>\n",
       "</table>\n",
       "</div>"
      ],
      "text/plain": [
       "                                          Val  count(DISTINCT(p.UNIQID))\n",
       "0                               Bound Ligands                     376331\n",
       "1  Bound Ligand Entities which are chem comps                     376331\n",
       "2           Bound ligands with chem comp desc                     375856\n",
       "3  Bound ligands described by InChI or SMILES                     375856\n",
       "4                       Unknown Bound ligands                        475"
      ]
     },
     "execution_count": 27,
     "metadata": {},
     "output_type": "execute_result"
    }
   ],
   "source": [
    "bl_entries"
   ]
  },
  {
   "cell_type": "markdown",
   "id": "611e7f4b-48e4-4f5f-b778-5e10977d2075",
   "metadata": {},
   "source": [
    "What is the breakdown of protein domains in the dataset?"
   ]
  },
  {
   "cell_type": "code",
   "execution_count": null,
   "id": "65740414-5bb2-4037-8b6f-726af484d376",
   "metadata": {},
   "outputs": [],
   "source": [
    "domains_query_string = '''\n",
    "MATCH\n",
    "(c:CATH), (p:Pfam), (s:SCOP)\n",
    "(p)-[:IS_AN_INSTANCE_OF]->(bl:BoundLigand)<-[:BINDS_LIGAND]-(c)\n",
    "WHERE\n",
    "e.TYPE = \"p\"\n",
    "AND e.POLYMER_TYPE = \"P\"\n",
    "AND e.EC IS NOT NULL\n",
    "AND d.DESCRIPTOR STARTS WITH \"InChI\"\n",
    "RETURN DISTINCT a.ID as pdb_entry_id, p.UNIQID as ligand_entity_id, d.DESCRIPTOR as inchi_descriptor, e.EC as protein_polymer_EC LIMIT 10\n",
    "'''\n",
    "domains_entries_data = pd.DataFrame([dict(_) for _ in conn.query(query_string, db='neo4j')])"
   ]
  },
  {
   "cell_type": "markdown",
   "id": "96505ff4-b1d3-4a78-bae7-de0ac324ecf1",
   "metadata": {},
   "source": [
    "With the get_kegg_information.py script, we are able to get the cognate ligand information for EC entries. What is our coverage of the EC reactions annotated in the PDBe-graph?\n",
    "\n",
    "Start with the number of EC reactions annotated in the PDB-graph:"
   ]
  },
  {
   "cell_type": "code",
   "execution_count": 28,
   "id": "aa0d0801-7578-4da3-92e6-2e8da1c116b9",
   "metadata": {},
   "outputs": [],
   "source": [
    "unique_ec_reactions = '''\n",
    "MATCH\n",
    "(e:Entity)\n",
    "WHERE\n",
    "e.TYPE = \"p\"\n",
    "AND e.POLYMER_TYPE = \"P\"\n",
    "AND e.EC IS NOT NULL\n",
    "RETURN COUNT(DISTINCT(e.EC)) as number_unique_protein_polymer_EC\n",
    "'''\n",
    "unique_ec_count = pd.DataFrame([dict(_) for _ in conn.query(unique_ec_reactions, db='neo4j')])"
   ]
  },
  {
   "cell_type": "code",
   "execution_count": 29,
   "id": "f1f02cb0-6ef1-42d2-bcf1-f285bd9421f7",
   "metadata": {},
   "outputs": [
    {
     "data": {
      "text/html": [
       "<div>\n",
       "<style scoped>\n",
       "    .dataframe tbody tr th:only-of-type {\n",
       "        vertical-align: middle;\n",
       "    }\n",
       "\n",
       "    .dataframe tbody tr th {\n",
       "        vertical-align: top;\n",
       "    }\n",
       "\n",
       "    .dataframe thead th {\n",
       "        text-align: right;\n",
       "    }\n",
       "</style>\n",
       "<table border=\"1\" class=\"dataframe\">\n",
       "  <thead>\n",
       "    <tr style=\"text-align: right;\">\n",
       "      <th></th>\n",
       "      <th>number_unique_protein_polymer_EC</th>\n",
       "    </tr>\n",
       "  </thead>\n",
       "  <tbody>\n",
       "    <tr>\n",
       "      <th>0</th>\n",
       "      <td>4227</td>\n",
       "    </tr>\n",
       "  </tbody>\n",
       "</table>\n",
       "</div>"
      ],
      "text/plain": [
       "   number_unique_protein_polymer_EC\n",
       "0                              4227"
      ]
     },
     "execution_count": 29,
     "metadata": {},
     "output_type": "execute_result"
    }
   ],
   "source": [
    "unique_ec_count"
   ]
  },
  {
   "cell_type": "code",
   "execution_count": 71,
   "id": "c0daac5b-c15a-4dc9-9ce3-bd96acb8af44",
   "metadata": {},
   "outputs": [],
   "source": [
    "cath_chains_domains_mapping_query = \"\"\"\n",
    "MATCH (p:Entity)<-[:HAS_ENTITY]-(a:Entry)-[:HAS_ENTITY]->(e:Entity)-[:HAS_PDB_RESIDUE]->(pr:PDBResidue),\n",
    "(p)-[:IS_AN_INSTANCE_OF]->(bl:BoundLigand),\n",
    "(pr)-[:IS_IN_CATH_DOMAIN]->(c:CATH)\n",
    "WHERE\n",
    "NOT bl.CHEM_COMP_ID in [\"UNX\", \"UNL\"] AND\n",
    "e.TYPE = 'p' AND e.POLYMER_TYPE = 'P' AND e.EC IS NOT NULL \n",
    "RETURN DISTINCT e.UNIQID as chain, c.CATHCODE as cathcode, c.DOMAIN as CATH_domain, e.EC as EC_descriptor\n",
    "\"\"\"\n",
    "\n",
    "scop_chains_domains_mapping_query = \"\"\"\n",
    "MATCH (p:Entity)<-[:HAS_ENTITY]-(a:Entry)-[:HAS_ENTITY]->(e:Entity)-[:HAS_PDB_RESIDUE]->(pr:PDBResidue),\n",
    "(p)-[:IS_AN_INSTANCE_OF]->(bl:BoundLigand),\n",
    "(pr)-[:IS_IN_SCOP_DOMAIN]->(sc:SCOP)\n",
    "WHERE\n",
    "NOT bl.CHEM_COMP_ID in [\"UNX\", \"UNL\"] AND\n",
    "e.TYPE = 'p' AND e.POLYMER_TYPE = 'P' AND e.EC IS NOT NULL \n",
    "RETURN DISTINCT e.UNIQID as chain, sc.SCCS as SCCS, sc.SUNID as SUNID, e.EC as EC_descriptor\n",
    "\"\"\"\n",
    "\n",
    "pfam_chains_domains_mapping_query = \"\"\"\n",
    "MATCH (p:Entity)<-[:HAS_ENTITY]-(a:Entry)-[:HAS_ENTITY]->(e:Entity), \n",
    "(p)-[:IS_AN_INSTANCE_OF]->(bl:BoundLigand),\n",
    "(e)-[:HAS_PFAM]-(pf:Pfam)\n",
    "WHERE\n",
    "NOT bl.CHEM_COMP_ID in [\"UNX\", \"UNL\"] AND\n",
    "e.TYPE = 'p' AND e.POLYMER_TYPE = 'P' AND e.EC IS NOT NULL \n",
    "RETURN DISTINCT \n",
    "    e.UNIQID as chain, \n",
    "    pf.NAME as pfam_name, \n",
    "    pf.PFAM_ACCESSION as pfam_accession, \n",
    "    e.EC as EC_descriptor\n",
    "\"\"\"\n",
    "\n",
    "all_chem_descriptors_query = \"\"\"\n",
    "MATCH (d:ChemicalComponentDesc)<-[:DESCRIBED_BY]-(cc:ChemicalComponent)<-[:IS_A]-(p:Entity)<-[:HAS_ENTITY]-(a:Entry)-[:HAS_ENTITY]->(e:Entity),\n",
    "(p)-[:IS_AN_INSTANCE_OF]->(bl:BoundLigand)\n",
    "WHERE\n",
    "NOT bl.CHEM_COMP_ID in [\"UNX\", \"UNL\"] AND\n",
    "e.TYPE = 'p'\n",
    "AND e.POLYMER_TYPE = 'P'\n",
    "AND e.EC IS NOT NULL\n",
    "AND cc.ID = bl.CHEM_COMP_ID\n",
    "RETURN DISTINCT \n",
    "    a.ID as pdb_entry_id, \n",
    "    bl.UNIQID as bl_id,\n",
    "    bl.CHEM_COMP_ID as bl_name,\n",
    "    p.UNIQID as ligand_entity_id, \n",
    "    d.DESCRIPTOR as descriptor, \n",
    "    d.TYPE as descriptor_type, \n",
    "    e.EC as protein_polymer_EC\n",
    "\"\"\""
   ]
  },
  {
   "cell_type": "code",
   "execution_count": 25,
   "id": "65bf78ef-1b31-4f41-8e68-44599f94e8e8",
   "metadata": {},
   "outputs": [],
   "source": [
    "cath_pdb_residue_interactions_query_distinct = \"\"\"\n",
    "MATCH\n",
    "(a:Entry)-[:HAS_ENTITY]->(e:Entity)-[:HAS_PDB_RESIDUE]->(pr:PDBResidue)-[cd:IS_IN_CATH_DOMAIN]->(c:CATH) WHERE\n",
    "e.TYPE = 'p' AND e.POLYMER_TYPE = 'P' AND e.EC IS NOT NULL\n",
    "WITH e, pr ,cd, c, a \n",
    "MATCH\n",
    "(pr)<-[Arp:HAS_ARP_CONTACT]-(bl:BoundLigand)<-[:IS_AN_INSTANCE_OF]-(p:Entity) WHERE\n",
    "Arp.CONTACT_TYPE <> \"['vdw_clash']\" AND Arp.CONTACT_TYPE <> \"['clash']\" \n",
    "AND cd.STRUCT_ASYM_ID = Arp.STRUCT_ASYM_ID_2 AND\n",
    "NOT bl.CHEM_COMP_ID in [\"UNX\", \"UNL\"]\n",
    "RETURN DISTINCT\n",
    "  a.ID as pdb_id, \n",
    "  e.UNIQID as protein_entity_id,\n",
    "  e.BEST_CHAIN_ID as pdb_best_chain_id,\n",
    "  e.EC as protein_entity_ec,\n",
    "  p.UNIQID as ligand_entity_id, \n",
    "  p.TYPE as ligand_entity_type,\n",
    "  p.BEST_CHAIN_ID as bound_ligand_best_chain_id, \n",
    "  p.POLYMER_TYPE as ligand_entity_polymer_type, \n",
    "  pr.UNIQID as pdb_residue_id,\n",
    "  pr.CHEM_COMP_ID as pdb_residue_type,\n",
    "  c.DOMAIN as cath_domain,\n",
    "  c.CLASS as cath_class,\n",
    "  c.ARCH as cath_architecture,\n",
    "  c.TOPOL as cath_topology,\n",
    "  c.HOMOL as cath_homology,\n",
    "  c.NAME as cath_name,\n",
    "  bl.UNIQID as bound_ligand_id, \n",
    "  bl.CHEM_COMP_ID as bound_ligand_name,\n",
    "  Arp.AUTH_SEQ_ID_2 as pdb_residue_auth_id,\n",
    "  Arp.AUTH_SEQ_ID_1 as bound_ligand_auth_id,\n",
    "  Arp.CONTACT_TYPE as contact_type, \n",
    "  Arp.DISTANCE as contact_distance, \n",
    "  Arp.INTERACTION_TYPE as interaction_type, \n",
    "  Arp.ATOM_1 as atom_1, \n",
    "  Arp.ATOM_2 as atom_2\"\"\""
   ]
  },
  {
   "cell_type": "code",
   "execution_count": 26,
   "id": "57c00722-de8f-44c3-821f-27d08340e840",
   "metadata": {},
   "outputs": [],
   "source": [
    "cath_pdb_residue_interactions_distinct = pd.DataFrame([dict(_) for _ in conn.query(cath_pdb_residue_interactions_query_distinct, db='neo4j')])\n",
    "cath_pdb_residue_interactions_distinct.to_csv(\"cath_pdb_residue_interactions_distinct.csv\")"
   ]
  },
  {
   "cell_type": "code",
   "execution_count": 27,
   "id": "5afbb8ba-98b0-43cd-8bd7-082f49f49374",
   "metadata": {},
   "outputs": [],
   "source": [
    "scop_pdb_residue_interactions_query_distinct = \"\"\"\n",
    "MATCH\n",
    "(a:Entry)-[:HAS_ENTITY]->(e:Entity)-[:HAS_PDB_RESIDUE]->(pr:PDBResidue)-[sd:IS_IN_SCOP_DOMAIN]->(s:SCOP) WHERE\n",
    "e.TYPE = 'p' AND e.POLYMER_TYPE = 'P' AND e.EC IS NOT NULL\n",
    "WITH e, pr ,sd, s, a \n",
    "MATCH\n",
    "(pr)<-[Arp:HAS_ARP_CONTACT]-(bl:BoundLigand)<-[:IS_AN_INSTANCE_OF]-(p:Entity) WHERE\n",
    "Arp.CONTACT_TYPE <> \"['vdw_clash']\" AND Arp.CONTACT_TYPE <> \"['clash']\" \n",
    "AND sd.STRUCT_ASYM_ID = Arp.STRUCT_ASYM_ID_2 AND\n",
    "NOT bl.CHEM_COMP_ID in [\"UNX\", \"UNL\"]\n",
    "RETURN DISTINCT\n",
    "  a.ID as pdb_id, \n",
    "  e.UNIQID as protein_entity_id,\n",
    "  e.BEST_CHAIN_ID as pdb_best_chain_id,\n",
    "  e.EC as protein_entity_ec,\n",
    "  bl.UNIQID as bound_ligand_entity_id,\n",
    "  p.UNIQID as ligand_entity_id, \n",
    "  p.TYPE as ligand_entity_type,\n",
    "  p.BEST_CHAIN_ID as bound_ligand_best_chain_id, \n",
    "  p.POLYMER_TYPE as ligand_entity_polymer_type, \n",
    "  pr.UNIQID as pdb_residue_id,\n",
    "  pr.CHEM_COMP_ID as pdb_residue_type,\n",
    "  s.SUNID as scop_sunid,\n",
    "  s.DESCRIPTION as scop_description,\n",
    "  s.SCCS as scop_sccs,\n",
    "  sd.CLASS_ID as scop_class_id,\n",
    "  sd.FOLD_ID as scop_fold_id,\n",
    "  sd.SUPERFAMILY_ID as scop_superfamily_id,\n",
    "  sd.SCOP_ID as scop_id,\n",
    "  bl.UNIQID as bound_ligand_id, \n",
    "  bl.AUTH_COMP_ID as bound_ligand_name,\n",
    "  Arp.AUTH_SEQ_ID_2 as pdb_residue_auth_id,\n",
    "  Arp.AUTH_SEQ_ID_1 as bound_ligand_auth_id,\n",
    "  Arp.CONTACT_TYPE as contact_type, \n",
    "  Arp.DISTANCE as contact_distance, \n",
    "  Arp.INTERACTION_TYPE as interaction_type, \n",
    "  Arp.ATOM_1 as atom_1, \n",
    "  Arp.ATOM_2 as atom_2\n",
    "\"\"\""
   ]
  },
  {
   "cell_type": "code",
   "execution_count": 28,
   "id": "26e97627-7f62-4134-9b86-0471c681c74b",
   "metadata": {},
   "outputs": [],
   "source": [
    "scop_pdb_residue_interactions_distinct = pd.DataFrame([dict(_) for _ in conn.query(scop_pdb_residue_interactions_query_distinct, db='neo4j')])\n",
    "scop_pdb_residue_interactions_distinct.to_csv(\"scop_pdb_residue_interactions_distinct.csv\")"
   ]
  },
  {
   "cell_type": "code",
   "execution_count": 28,
   "id": "75a5bbcc-5d45-4d29-8c77-14d65cdae54f",
   "metadata": {},
   "outputs": [],
   "source": [
    "# Load the XML file containing explorenz ec data\n",
    "xml_file_path = 'kegg_information/enzyme-data.xml'\n",
    "tree = ET.parse(xml_file_path)\n",
    "\n",
    "# Find all table_data elements and parse their data\n",
    "data = {}\n",
    "for table_data_elem in tree.findall(\".//table_data\"):\n",
    "    table_name = table_data_elem.attrib['name']\n",
    "    data[table_name] = parse_table_data(table_data_elem)\n",
    "\n",
    "# Convert the parsed data into a DataFrame\n",
    "dfs = {table_name: pd.DataFrame.from_dict(data) for table_name, data in data.items()}\n",
    "\n",
    "total_ec_nums = dfs[\"entry\"].T\n",
    "total_ec_nums_list = total_ec_nums[\"ec_num\"].dropna().unique().tolist()"
   ]
  },
  {
   "cell_type": "code",
   "execution_count": 21,
   "id": "45580f4a-a4fe-4530-81ce-0e66a843c7db",
   "metadata": {},
   "outputs": [],
   "source": [
    "cath_chains_domains = pd.DataFrame([dict(_) for _ in conn.query(cath_chains_domains_mapping_query, db='neo4j')])\n",
    "scop_chains_domains = pd.DataFrame([dict(_) for _ in conn.query(scop_chains_domains_mapping_query, db='neo4j')])\n",
    "pfam_chains_domains = pd.DataFrame([dict(_) for _ in conn.query(pfam_chains_domains_mapping_query, db='neo4j')])\n",
    "\n",
    "cath_chains_domains.to_csv(\"cath_chains_domains_mapping.csv\")\n",
    "scop_chains_domains.to_csv(\"scop_chains_domains_mapping.csv\")\n",
    "pfam_chains_domains.to_csv(\"pfam_chains_domains_mapping.csv\")"
   ]
  },
  {
   "cell_type": "code",
   "execution_count": 22,
   "id": "839852cd-c195-4560-8583-c63cbd6cd7fa",
   "metadata": {},
   "outputs": [],
   "source": [
    "cath_chains_domains_grouped = cath_chains_domains.groupby([\"chain\", \"EC_descriptor\"]).apply(lambda row: [(cathcode, domain) for cathcode, domain in zip(row['cathcode'], row['CATH_domain'])]).rename(\"cath\").reset_index()\n",
    "scop_chains_domains_grouped = scop_chains_domains.groupby([\"chain\", \"EC_descriptor\"]).apply(lambda row: [(sccs, sunid) for sccs, sunid in zip(row['SCCS'], row['SUNID'])]).rename(\"scop\").reset_index()\n",
    "pfam_chains_domains_grouped = pfam_chains_domains.groupby([\"chain\", \"EC_descriptor\"]).apply(lambda row: [(pfam_name, pfam_accession) for pfam_name, pfam_accession in zip(row['pfam_name'], row['pfam_accession'])]).rename(\"pfam\").reset_index()\n",
    "\n",
    "chains_domains = cath_chains_domains_grouped.merge(scop_chains_domains_grouped, on = [\"chain\", \"EC_descriptor\"], how='outer')\n",
    "chains_domains = chains_domains.merge(pfam_chains_domains_grouped, on =  [\"chain\", \"EC_descriptor\"],how='outer')\n",
    "\n",
    "chains_domains[\"pdb\"] = chains_domains[\"chain\"].str.extract(\"^([A-z0-9]+)_\")\n",
    "chains_domains[\"EC_descriptor\"] = chains_domains.EC_descriptor.str.split(\",\")\n",
    "chains_domains.loc[chains_domains[\"EC_descriptor\"].isna() == False, \"EC_descriptor\"] = chains_domains.loc[chains_domains[\"EC_descriptor\"].isna() == False, \"EC_descriptor\"]\n",
    "chains_domains = chains_domains.explode(\"EC_descriptor\")\n",
    "chains_domains[\"EC_descriptor\"] = chains_domains[\"EC_descriptor\"].str.strip()"
   ]
  },
  {
   "cell_type": "code",
   "execution_count": 29,
   "id": "c902901e-13ce-41aa-9059-3694898c3ef3",
   "metadata": {},
   "outputs": [],
   "source": [
    "chains_domains[\"filled_EC_descriptor\"] = chains_domains[\"EC_descriptor\"]\n",
    "chains_domains[\"filled_EC_descriptor\"] = chains_domains[\"filled_EC_descriptor\"].apply(lambda x: return_partial_EC_list(x, total_ec_nums_list))\n",
    "chains_domains = chains_domains.explode(\"filled_EC_descriptor\")\n",
    "chains_domains[\"cath\"] = chains_domains[\"cath\"].apply(lambda x: x if isinstance(x, list) else [])\n",
    "chains_domains[\"scop\"] = chains_domains[\"scop\"].apply(lambda x: x if isinstance(x, list) else [])"
   ]
  },
  {
   "cell_type": "code",
   "execution_count": 30,
   "id": "b2a1676b-5edc-403a-a73d-f37bb986a7fa",
   "metadata": {},
   "outputs": [],
   "source": [
    "chains_domains.to_csv(\"chains_domains_formatted.csv\", index = False)"
   ]
  },
  {
   "cell_type": "code",
   "execution_count": 66,
   "id": "a8529dda-5a2e-4ab8-895f-fe10a66dc781",
   "metadata": {},
   "outputs": [],
   "source": [
    "all_chem_descriptors = pd.DataFrame([dict(_) for _ in conn.query(all_chem_descriptors_query, db='neo4j')])\n",
    "all_chem_descriptors[\"protein_polymer_EC\"] = all_chem_descriptors[\"protein_polymer_EC\"].str.split(\",\")\n",
    "all_chem_descriptors = all_chem_descriptors.explode(\"protein_polymer_EC\")\n",
    "all_chem_descriptors.to_csv(\"all_chem_descriptors_ligands.csv\")\n",
    "all_chem_descriptors_inchi = all_chem_descriptors.loc[all_chem_descriptors.descriptor_type == \"InChI\"]\n",
    "all_chem_descriptors_inchi_unique_pairs = all_chem_descriptors_inchi.drop_duplicates([\"bl_id\",\"protein_polymer_EC\"], keep='first') #get the unique pairs of inchi descriptors and EC numbers\n",
    "\n",
    "chains_domains_chem_descriptors = all_chem_descriptors_inchi_unique_pairs.loc[all_chem_descriptors_inchi_unique_pairs.pdb_entry_id.isin(chains_domains.pdb.unique())]\n",
    "\n",
    "chains_domains_chem_descriptors.to_pickle(\"chains_domains_chem_descriptors.pkl\")"
   ]
  },
  {
   "cell_type": "code",
   "execution_count": 153,
   "id": "c23622eb-a665-4cd0-a2dd-53a967bf69ef",
   "metadata": {},
   "outputs": [],
   "source": [
    "chains_domains_chem_descriptors_cath_scop = chains_domains_chem_descriptors.loc[(chains_domains_chem_descriptors.bl_id.isin(scop_pdb_residue_interactions_distinct.bound_ligand_id.unique())) | \n",
    "                                    (chains_domains_chem_descriptors.bl_id.isin(cath_pdb_residue_interactions_distinct.bound_ligand_id.unique()))]\n",
    "chains_domains_chem_descriptors_cath_scop.to_pickle(\"chains_domains_chem_descriptors_cath_scop.pkl\")\n",
    "\n",
    "ligands_to_score = chains_domains_chem_descriptors_cath_scop[[\"bl_id\", \"descriptor\", \"protein_polymer_EC\"]].drop_duplicates().reset_index().rename(columns = {\"index\" : \"ligand_entity_id\"})\n",
    "\n",
    "ligands_to_score.to_pickle(\"cath_scop_ligands_to_score.pkl\")"
   ]
  },
  {
   "cell_type": "code",
   "execution_count": 154,
   "id": "887c088a-2b68-4776-b7f2-59b35a2eb1a2",
   "metadata": {},
   "outputs": [
    {
     "data": {
      "text/html": [
       "<div>\n",
       "<style scoped>\n",
       "    .dataframe tbody tr th:only-of-type {\n",
       "        vertical-align: middle;\n",
       "    }\n",
       "\n",
       "    .dataframe tbody tr th {\n",
       "        vertical-align: top;\n",
       "    }\n",
       "\n",
       "    .dataframe thead th {\n",
       "        text-align: right;\n",
       "    }\n",
       "</style>\n",
       "<table border=\"1\" class=\"dataframe\">\n",
       "  <thead>\n",
       "    <tr style=\"text-align: right;\">\n",
       "      <th></th>\n",
       "      <th>ligand_entity_id</th>\n",
       "      <th>bl_id</th>\n",
       "      <th>descriptor</th>\n",
       "      <th>protein_polymer_EC</th>\n",
       "    </tr>\n",
       "  </thead>\n",
       "  <tbody>\n",
       "    <tr>\n",
       "      <th>500</th>\n",
       "      <td>4680</td>\n",
       "      <td>3uv6_3_D_1</td>\n",
       "      <td>InChI=1S/C4H12O8P2/c5-3-1-2-4-11-14(9,10)12-13...</td>\n",
       "      <td>1.17.1.2</td>\n",
       "    </tr>\n",
       "    <tr>\n",
       "      <th>501</th>\n",
       "      <td>4694</td>\n",
       "      <td>3utd_3_D_1</td>\n",
       "      <td>InChI=1S/C5H12O8P2/c1-5(6)3-2-4-12-15(10,11)13...</td>\n",
       "      <td>1.17.1.2</td>\n",
       "    </tr>\n",
       "  </tbody>\n",
       "</table>\n",
       "</div>"
      ],
      "text/plain": [
       "     ligand_entity_id       bl_id  \\\n",
       "500              4680  3uv6_3_D_1   \n",
       "501              4694  3utd_3_D_1   \n",
       "\n",
       "                                            descriptor protein_polymer_EC  \n",
       "500  InChI=1S/C4H12O8P2/c5-3-1-2-4-11-14(9,10)12-13...           1.17.1.2  \n",
       "501  InChI=1S/C5H12O8P2/c1-5(6)3-2-4-12-15(10,11)13...           1.17.1.2  "
      ]
     },
     "execution_count": 154,
     "metadata": {},
     "output_type": "execute_result"
    }
   ],
   "source": [
    "ligands_to_score.loc[ligands_to_score.descriptor.isin([\"InChI=1S/C4H12O8P2/c5-3-1-2-4-11-14(9,10)12-13(6,7)8/h5H,1-4H2,(H,9,10)(H2,6,7,8)\",\"InChI=1S/C5H12O8P2/c1-5(6)3-2-4-12-15(10,11)13-14(7,8)9/h2-4H2,1H3,(H,10,11)(H2,7,8,9)\"])]"
   ]
  },
  {
   "cell_type": "code",
   "execution_count": 157,
   "id": "f9197fc9-86cf-4aaf-b7bb-c8f8acb90987",
   "metadata": {},
   "outputs": [
    {
     "data": {
      "text/plain": [
       "descriptor\n",
       "InChI=1S/C17H17ClN5O8P/c18-9-3-1-8(2-4-9)17(26)31-32(27,28)29-5-10-12(24)13(25)16(30-10)23-7-22-11-14(19)20-6-21-15(11)23/h1-4,6-7,10,12-13,16,24-25H,5H2,(H,27,28)(H2,19,20,21)/t10-,12-,13-,16-/m1/s1    12\n",
       "Name: count, dtype: int64"
      ]
     },
     "execution_count": 157,
     "metadata": {},
     "output_type": "execute_result"
    }
   ],
   "source": [
    "parity_scores.loc[parity_scores.bl_id == \"3cw8_2_B_1\"].descriptor.value_counts()"
   ]
  },
  {
   "cell_type": "code",
   "execution_count": 148,
   "id": "51dc7922-9d2a-4b4e-8742-c74e9f300955",
   "metadata": {},
   "outputs": [],
   "source": [
    "parity_scores = pd.read_pickle(\"parity_calcs/parity_calcs_cath_scop/all_parity_calcs.pkl\")"
   ]
  },
  {
   "cell_type": "code",
   "execution_count": null,
   "id": "85eda651-2128-47ae-8426-b720f99a3f7d",
   "metadata": {},
   "outputs": [],
   "source": [
    "#FILTER THE ALL CHEM DESCRIPTORS FILE TO REMOVE LIGANDS WHICH DO NOT HAVE NON VDW CLASH OR CLASH INTERACTIONS WITH A LIGAND"
   ]
  }
 ],
 "metadata": {
  "kernelspec": {
   "display_name": "Python [conda env:cognate_ligand_project]",
   "language": "python",
   "name": "conda-env-cognate_ligand_project-py"
  },
  "language_info": {
   "codemirror_mode": {
    "name": "ipython",
    "version": 3
   },
   "file_extension": ".py",
   "mimetype": "text/x-python",
   "name": "python",
   "nbconvert_exporter": "python",
   "pygments_lexer": "ipython3",
   "version": "3.11.4"
  }
 },
 "nbformat": 4,
 "nbformat_minor": 5
}
