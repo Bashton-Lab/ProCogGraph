{
 "cells": [
  {
   "cell_type": "code",
   "execution_count": 3,
   "id": "75cce2ac-326d-4a1d-aae8-1c03b7bf1f79",
   "metadata": {},
   "outputs": [],
   "source": [
    "import matplotlib.pyplot as plt\n",
    "import pandas as pd\n",
    "import requests\n",
    "from Bio.KEGG import Enzyme\n",
    "import matplotlib\n",
    "import io\n",
    "import time\n",
    "import pickle\n",
    "import re\n",
    "from rich.progress import Progress\n",
    "from rdkit import Chem\n",
    "from collections import Counter\n",
    "import numpy as np\n",
    "from rdkit import Chem\n",
    "from rdkit.Chem import rdFMCS\n",
    "import pubchempy as pcp\n",
    "from bs4 import BeautifulSoup\n",
    "from urllib.parse import quote\n",
    "import json\n",
    "\n",
    "import math\n",
    "import os\n",
    "\n",
    "from ast import literal_eval"
   ]
  },
  {
   "cell_type": "markdown",
   "id": "e9e5bf8f-8818-46ad-a21e-4f82d0f6f7bb",
   "metadata": {},
   "source": [
    "The goal here needs to be assign ownership of a ligand to a domain. So need to have a function that iterates through each ligand (bound ligand ID). Having the ligand entity id and pdb entity id are potentially unnecessary in the cypher for this query.\n",
    "\n",
    "Can groupby ligand entity id to get all of the contacts for the ligand.\n",
    "\n",
    "Should first implement a function that assigns ownership in terms of orginal procognate paper i.e. if it owns more than 70% of contacts, it is the ligand owner.\n",
    "\n",
    "Definition of a ligand needs to be clear: it is the instance of an entity, not just the entity.\n",
    "\n",
    "A plot of ligand ownership would be good. \n",
    "\n",
    "these are the possible groups we need to create hierarchies for.\n",
    "\n",
    "VDW clashes: disregard\n",
    "Covalent: Is prioritised.\n",
    "Ionic bond > Halogen bond > H-bond > Polar > weak H-bond > weak polar > vdw - so ,if all of the bonds are in this list, apply a numeric value and select the top one.\n",
    "\n",
    "We rank atom-atom and atom-plane interactions independently.\n",
    "\n",
    "Instead just going with the existence of a contact, i.e. no filtering or anything complex for now"
   ]
  },
  {
   "cell_type": "code",
   "execution_count": 146,
   "id": "ebf42543-4c12-4e30-89fc-36699f4f32e3",
   "metadata": {},
   "outputs": [],
   "source": [
    "def assign_ownership_percentile(ligands_df, percentile_cut_off = 0.7):\n",
    "    ligands_df[\"total_counts\"] = ligands_df.groupby(\"bound_ligand_id\").transform(\"size\")\n",
    "    ligands_df[\"domain_counts\"] = ligands_df.groupby([\"bound_ligand_id\", \"cath_domain\"]).transform(\"size\")\n",
    "    ligands_df[\"domain_ownership\"] = np.where(ligands_df.domain_counts > (ligands_df.total_counts * 0.7), ligands_df[\"cath_domain\"], np.nan)\n",
    "    ligands_df.loc[ligands_df.groupby(\"bound_ligand_id\")[\"domain_ownership\"].transform(lambda x: x.isnull().all()), \"domain_ownership\"] = \"shared\"\n",
    "    return ligands_df\n",
    "\n",
    "def assign_ownership_percentile_categories(ligands_df, domain_grouping_key = \"cath_domain\"):\n",
    "    ligands_df[\"total_contact_counts\"] = ligands_df.groupby(\"bound_ligand_id\").transform(\"size\")\n",
    "    ligands_df[\"domain_contact_counts\"] = ligands_df.groupby([\"bound_ligand_id\", domain_grouping_key]).transform(\"size\")\n",
    "    hbond_counts = ligands_df.explode('contact_type').groupby(['bound_ligand_id', domain_grouping_key])['contact_type'].apply(lambda x: (x == 'hbond').sum()).rename(\"domain_hbond_counts\").reset_index()\n",
    "    ligands_df = ligands_df.merge(hbond_counts, how = \"left\", on = [\"bound_ligand_id\", domain_grouping_key], indicator = True)\n",
    "    assert(len(ligands_df.loc[ligands_df._merge != \"both\"]) == 0)\n",
    "    ligands_df.drop(columns = [\"_merge\"], inplace = True)\n",
    "    ligands_df[\"domain_hbond_perc\"] = ligands_df.domain_hbond_counts / ligands_df.total_contact_counts\n",
    "    ligands_df[\"domain_contact_perc\"] = ligands_df.domain_contact_counts / ligands_df.total_contact_counts\n",
    "    ligands_df[\"domain_ownership\"] = np.where(\n",
    "        ligands_df[\"domain_contact_perc\"] == 1, \"uniquely_binding_domain\",\n",
    "        np.where(\n",
    "            ligands_df[\"domain_contact_perc\"] >= 0.7, \"dominant_binding_domain\",\n",
    "            np.where(\n",
    "                (ligands_df[\"domain_contact_perc\"] >= 0.3)\n",
    "                & (ligands_df[\"domain_contact_perc\"] < 0.7), \"partner_binding_domain\",\n",
    "                np.where(ligands_df[\"domain_contact_perc\"] < 0.3, \"minor_binding_domain\", np.nan)\n",
    "            )\n",
    "        )\n",
    "    )\n",
    "    return ligands_df"
   ]
  },
  {
   "cell_type": "code",
   "execution_count": 147,
   "id": "387a44ed-752f-402d-9790-49a75ce40dff",
   "metadata": {},
   "outputs": [],
   "source": [
    "cath_residue_df = pd.read_csv(\"pdbe_graph_files/cath_pdb_residue_interactions_distinct.csv\", na_values = [\"NaN\", \"None\"], keep_default_na = False)\n",
    "cath_residue_df = cath_residue_df.loc[cath_residue_df.bound_ligand_name != \"UNL\"]\n",
    "cath_residue_df[\"contact_type\"] = cath_residue_df[\"contact_type\"].apply(literal_eval)\n",
    "\n",
    "cath_residue_df_domains = assign_ownership_percentile_categories(cath_residue_df.copy(), \"cath_domain\")"
   ]
  },
  {
   "cell_type": "code",
   "execution_count": 149,
   "id": "4630b8f6-11b3-4300-ac63-469f26c9c021",
   "metadata": {},
   "outputs": [],
   "source": [
    "cath_domains = cath_residue_df_domains[[\"pdb_id\", \"protein_entity_id\", \"protein_entity_ec\", \"cath_domain\", \"cath_class\", \"cath_architecture\", \"cath_topology\",\"cath_homology\", \"cath_name\", \"ligand_entity_id\", \"bound_ligand_id\", \"bound_ligand_name\", \"total_contact_counts\", \"domain_contact_counts\", \"domain_hbond_counts\", \"domain_contact_perc\", \"domain_hbond_perc\", \"domain_ownership\"]].copy()"
   ]
  },
  {
   "cell_type": "code",
   "execution_count": 180,
   "id": "38b21d87-2267-4e1d-8c5f-efd659eacd97",
   "metadata": {},
   "outputs": [
    {
     "data": {
      "text/plain": [
       "3728735    801\n",
       "3728736    801\n",
       "3728737    801\n",
       "3728738    801\n",
       "3728739    801\n",
       "3728740    801\n",
       "3728781    801\n",
       "3728782    801\n",
       "3728783    801\n",
       "3728784    801\n",
       "3728810    801\n",
       "3728811    801\n",
       "Name: bound_ligand_auth_id, dtype: int64"
      ]
     },
     "execution_count": 180,
     "metadata": {},
     "output_type": "execute_result"
    }
   ],
   "source": [
    "cath_residue_df_domains.loc[cath_residue_df_domains.bound_ligand_id == \"9nse_6_O_1\"].bound_ligand_auth_id"
   ]
  },
  {
   "cell_type": "code",
   "execution_count": 150,
   "id": "7561e58b-e240-44fb-8fae-aa4290bd68db",
   "metadata": {},
   "outputs": [],
   "source": [
    "cath_domains.drop_duplicates(inplace = True)"
   ]
  },
  {
   "cell_type": "code",
   "execution_count": 151,
   "id": "46949e44-3e9a-4a69-ae94-182e4465d41f",
   "metadata": {},
   "outputs": [],
   "source": [
    "cath_domains.to_csv(\"domain_ownership/cath_domain_ownership.csv\")"
   ]
  },
  {
   "cell_type": "code",
   "execution_count": 167,
   "id": "272e24c5-d66b-4105-bbef-58a0f0c38e2a",
   "metadata": {},
   "outputs": [],
   "source": [
    "\n",
    "\n",
    "scop_domains_info = pd.read_csv(\"domain_ownership/dir.cla.scop.1_75.txt\", sep = \"\\t\", comment = \"#\", header = None, names = [\"scop_id\", \"pdb_id\", \"description\", \"sccs\", \"domain_sunid\", \"ancestor_sunid\"])\n",
    "scop_id_levels = [\"cl_id\", \"cf_id\", \"sf_id\", \"fa_id\", \"dm_id\", \"sp_id\", \"px_id\"]\n",
    "scop_domains_info[scop_id_levels] = scop_domains_info.ancestor_sunid.str.split(\",\", expand = True)\n",
    "\n",
    "scop_descriptions = pd.read_csv(\"domain_ownership/dir.des.scop.1_75.txt\", sep = \"\\t\", comment = \"#\" , header = None, names = [\"level_sunid\", \"level\", \"level_sccs\", \"level_sid\", \"level_description\"])\n",
    "\n",
    "def clean_and_merge_scop_col(df, column_id, description_df):\n",
    "    level = df[column_id].str.split(\"=\").str.get(0).values[0]\n",
    "    df[column_id] = df[column_id].str.split(\"=\").str.get(1).astype(int)\n",
    "    df = df.merge(description_df.loc[description_df.level == level, [\"level_sunid\", \"level\", \"level_description\"]],left_on = column_id, right_on = \"level_sunid\", indicator = True)\n",
    "    df.rename(columns = {\"level_description\": f\"{level}_description\"}, inplace = True)\n",
    "    assert len(df.loc[df._merge != \"both\"]) == 0\n",
    "    df.drop(columns = [\"_merge\", \"level_sunid\", \"level\"], inplace = True)\n",
    "    return df\n",
    "\n",
    "def complete_unmatched_domains(df, class_codes, fold_codes, superfamily_codes):\n",
    "    df = df.merge(class_codes, left_on = \"scop_class_id\", right_on = \"cl_id\", how = \"left\", indicator = True)\n",
    "    df[\"cl_description_x\"] = df[\"cl_description_x\"].fillna(df[\"cl_description_y\"])\n",
    "    df[\"cl_id_x\"] = df[\"cl_id_x\"].fillna(df[\"scop_class_id\"])\n",
    "    df.rename(columns = {\"cl_id_x\" : \"cl_id\", \"cl_description_x\": \"cl_description\"}, inplace = True)\n",
    "    df.drop(columns = [\"_merge\", \"cl_description_y\", \"cl_id_y\"], inplace = True)\n",
    "    df = df.merge(fold_codes, left_on = \"scop_fold_id\", right_on = \"cf_id\", how = \"left\", indicator = True)\n",
    "    df[\"cf_description_x\"] = df[\"cf_description_x\"].fillna(df[\"cf_description_y\"])\n",
    "    df[\"cf_id_x\"] = df[\"cf_id_x\"].fillna(df[\"scop_fold_id\"])\n",
    "    df.rename(columns = {\"cf_id_x\" : \"cf_id\", \"cf_description_x\": \"cf_description\"}, inplace = True)\n",
    "    df.drop(columns = [ \"_merge\", \"cf_description_y\", \"cf_id_y\"], inplace = True)\n",
    "    df = df.merge(superfamily_codes, left_on = \"scop_superfamily_id\", right_on = \"sf_id\", how = \"left\", indicator = True)\n",
    "    df[\"sf_description_x\"] = df[\"sf_description_x\"].fillna(df[\"sf_description_y\"])\n",
    "    df[\"sf_id_x\"] = df[\"sf_id_x\"].fillna(df[\"scop_superfamily_id\"])\n",
    "    df.rename(columns = {\"sf_id_x\" : \"sf_id\", \"sf_description_x\": \"sf_description\"}, inplace = True)\n",
    "    df.drop(columns = [\"_merge\", \"sf_description_y\", \"sf_id_y\"], inplace = True)\n",
    "    return df\n",
    "\n",
    "for column in scop_id_levels:\n",
    "    scop_domains_info = clean_and_merge_scop_col(scop_domains_info, column, scop_descriptions)\n",
    "    \n",
    "scop_domains_info.drop(columns = [\"pdb_id\"], inplace = True)\n",
    "\n",
    "class_codes = scop_domains_info[[\"cl_id\", \"cl_description\"]].drop_duplicates()\n",
    "fold_codes = scop_domains_info[[\"cf_id\", \"cf_description\"]].drop_duplicates()\n",
    "superfamily_codes = scop_domains_info[[\"sf_id\", \"sf_description\"]].drop_duplicates()"
   ]
  },
  {
   "cell_type": "code",
   "execution_count": 168,
   "id": "ad84a916-18bb-4a43-854e-874410edf022",
   "metadata": {},
   "outputs": [],
   "source": [
    "scop_residue_df = pd.read_csv(\"pdbe_graph_files/scop_pdb_residue_interactions_distinct.csv\", na_values = [\"NaN\", \"None\"], keep_default_na = False)\n",
    "scop_residue_df = scop_residue_df.loc[scop_residue_df.bound_ligand_name != \"UNL\"]\n",
    "scop_residue_df[\"contact_type\"] = scop_residue_df[\"contact_type\"].apply(literal_eval)\n",
    "scop_residue_df_domains = assign_ownership_percentile_categories(scop_residue_df.copy(), \"scop_id\")\n",
    "\n",
    "scop_domains = scop_residue_df_domains[[\"pdb_id\", \"protein_entity_id\", \"protein_entity_ec\", \"scop_sunid\",\"scop_description\", \"scop_sccs\", \"scop_class_id\", \"scop_fold_id\", \"scop_superfamily_id\", \"scop_id\", \"ligand_entity_id\", \"bound_ligand_id\", \"bound_ligand_name\", \"total_contact_counts\", \"domain_contact_counts\", \"domain_hbond_counts\", \"domain_contact_perc\", \"domain_hbond_perc\", \"domain_ownership\"]].copy()\n",
    "scop_domains.drop_duplicates(inplace = True)\n",
    "\n",
    "scop_domains = scop_domains.merge(scop_domains_info, how = \"left\", on = \"scop_id\", indicator = True)\n",
    "\n",
    "scop_domains_matched = scop_domains.loc[scop_domains._merge == \"both\"].copy().drop(columns = [\"_merge\"])\n",
    "scop_domains_unmatched = scop_domains.loc[scop_domains._merge != \"both\"].copy().drop(columns = [\"_merge\"])\n",
    "\n",
    "scop_domains_unmatched = complete_unmatched_domains(scop_domains_unmatched, class_codes, fold_codes, superfamily_codes)\n",
    "scop_domains = pd.concat([scop_domains_matched, scop_domains_unmatched])"
   ]
  },
  {
   "cell_type": "code",
   "execution_count": 170,
   "id": "2bff1aee-3704-49b9-b1cf-3c851980f5e8",
   "metadata": {},
   "outputs": [],
   "source": [
    "scop_domains.to_csv(\"domain_ownership/scop_domain_ownership.csv\")"
   ]
  },
  {
   "cell_type": "code",
   "execution_count": null,
   "id": "456f9c72-527d-46a6-994f-f87a02415b53",
   "metadata": {},
   "outputs": [],
   "source": [
    "#residue_df[\"contact_type_list\"] = residue_df[\"contact_type\"]\n",
    "# residue_df[\"len\"] = residue_df.contact_type.str.len()\n",
    "# residue_df = residue_df.explode(\"contact_type\").reset_index()\n",
    "#residue_df.loc[residue_df.interaction_type == \"atom-atom\", \"contact_value\"] = residue_df.loc[residue_df.interaction_type == \"atom-atom\", \"contact_type\"].apply(lambda x: hierarchy.index(x) if x in hierarchy else -1)\n",
    "# residue_df = residue_df.loc[residue_df[\"contact_type\"] != \"vdw_clash\"]\n",
    "# residue_df.groupby(\"contact_type\").contact_type_list.value_counts().to_csv(\"contact_types_list.csv\")"
   ]
  }
 ],
 "metadata": {
  "kernelspec": {
   "display_name": "Python [conda env:cognate_ligand_project]",
   "language": "python",
   "name": "conda-env-cognate_ligand_project-py"
  },
  "language_info": {
   "codemirror_mode": {
    "name": "ipython",
    "version": 3
   },
   "file_extension": ".py",
   "mimetype": "text/x-python",
   "name": "python",
   "nbconvert_exporter": "python",
   "pygments_lexer": "ipython3",
   "version": "3.11.4"
  }
 },
 "nbformat": 4,
 "nbformat_minor": 5
}
