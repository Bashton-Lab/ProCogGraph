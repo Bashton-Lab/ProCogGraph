{
 "cells": [
  {
   "cell_type": "code",
   "execution_count": 54,
   "id": "7143ddf3-500a-404e-9c1c-450239c618ce",
   "metadata": {},
   "outputs": [
    {
     "name": "stdout",
     "output_type": "stream",
     "text": [
      "0.7861328125\n",
      "0.7861328125\n"
     ]
    }
   ],
   "source": [
    "from rdkit import Chem\n",
    "import tmap as tm\n",
    "from map4 import MAP4Calculator\n",
    "import rdkit\n",
    "dim = 1024\n",
    "\n",
    "MAP4 = MAP4Calculator(dimensions=dim)\n",
    "ENC = tm.Minhash(dim)\n",
    "\n",
    "smiles_a = 'c1ccccc1'\n",
    "mol_a = Chem.MolFromSmiles(smiles_a)\n",
    "map4_a = MAP4.calculate(mol_a)\n",
    "\n",
    "\n",
    "smiles_b = 'c1cccc(N)c1'\n",
    "mol_b = Chem.MolFromSmiles(smiles_b)\n",
    "map4_b = MAP4.calculate(mol_b)\n",
    "\n",
    "# or use parallelized version:\n",
    "fps = MAP4.calculate_many([mol_a, mol_b])\n",
    "\n",
    "\n",
    "print(ENC.get_distance(map4_a, map4_b))\n",
    "\n",
    "print(ENC.get_distance(fps[0], fps[1]))"
   ]
  },
  {
   "cell_type": "code",
   "execution_count": 2,
   "id": "7999c279-1e54-4d26-ba05-44eb865502b3",
   "metadata": {},
   "outputs": [],
   "source": [
    "sugar = Chem.MolFromMolBlock(\"\"\" \n",
    " \n",
    " \n",
    " 23 24  0  0  1  0  0  0  0  0999 V2000\n",
    "   27.4952  -17.6709    0.0000 C   0  0  1  0  0  0  0  0  0  0  0  0\n",
    "   27.4952  -16.2679    0.0000 C   0  0  2  0  0  0  0  0  0  0  0  0\n",
    "   26.2844  -18.3695    0.0000 O   0  0  0  0  0  0  0  0  0  0  0  0\n",
    "   28.7120  -18.3638    0.0000 C   0  0  1  0  0  0  0  0  0  0  0  0\n",
    "   28.7120  -15.5692    0.0000 O   0  0  0  0  0  0  0  0  0  0  0  0\n",
    "   26.2844  -15.5633    0.0000 C   0  0  0  0  0  0  0  0  0  0  0  0\n",
    "   25.0735  -19.0682    0.0000 C   0  0  1  0  0  0  0  0  0  0  0  0\n",
    "   29.9231  -17.6709    0.0000 C   0  0  2  0  0  0  0  0  0  0  0  0\n",
    "   28.7120  -19.7668    0.0000 O   0  0  0  0  0  0  0  0  0  0  0  0\n",
    "   29.9231  -16.2679    0.0000 C   0  0  3  0  0  0  0  0  0  0  0  0\n",
    "   25.0735  -16.2679    0.0000 O   0  0  0  0  0  0  0  0  0  0  0  0\n",
    "   23.8684  -18.3638    0.0000 O   0  0  0  0  0  0  0  0  0  0  0  0\n",
    "   25.0735  -20.4712    0.0000 C   0  0  1  0  0  0  0  0  0  0  0  0\n",
    "   31.1340  -18.3638    0.0000 O   0  0  0  0  0  0  0  0  0  0  0  0\n",
    "   31.1340  -15.5692    0.0000 O   0  0  0  0  0  0  0  0  0  0  0  0\n",
    "   22.6516  -19.0682    0.0000 C   0  0  1  0  0  0  0  0  0  0  0  0\n",
    "   23.8684  -21.1641    0.0000 C   0  0  2  0  0  0  0  0  0  0  0  0\n",
    "   26.2844  -21.1641    0.0000 O   0  0  0  0  0  0  0  0  0  0  0  0\n",
    "   22.6516  -20.4712    0.0000 C   0  0  2  0  0  0  0  0  0  0  0  0\n",
    "   21.4348  -18.3638    0.0000 C   0  0  0  0  0  0  0  0  0  0  0  0\n",
    "   23.8684  -22.5671    0.0000 O   0  0  0  0  0  0  0  0  0  0  0  0\n",
    "   21.4348  -21.1641    0.0000 O   0  0  0  0  0  0  0  0  0  0  0  0\n",
    "   20.2239  -19.0682    0.0000 O   0  0  0  0  0  0  0  0  0  0  0  0\n",
    "  1  2  1  0     0  0\n",
    "  1  3  1  6     0  0\n",
    "  1  4  1  0     0  0\n",
    "  2  5  1  0     0  0\n",
    "  2  6  1  1     0  0\n",
    "  7  3  1  6     0  0\n",
    "  4  8  1  0     0  0\n",
    "  4  9  1  1     0  0\n",
    "  5 10  1  0     0  0\n",
    "  6 11  1  0     0  0\n",
    "  7 12  1  0     0  0\n",
    "  7 13  1  0     0  0\n",
    "  8 14  1  6     0  0\n",
    " 10 15  1  4     0  0\n",
    " 12 16  1  0     0  0\n",
    " 13 17  1  0     0  0\n",
    " 13 18  1  6     0  0\n",
    " 16 19  1  0     0  0\n",
    " 16 20  1  1     0  0\n",
    " 17 21  1  1     0  0\n",
    " 19 22  1  6     0  0\n",
    " 20 23  1  0     0  0\n",
    "  8 10  1  0     0  0\n",
    " 17 19  1  0     0  0\n",
    "M  END\"\"\")\n",
    "\n",
    "inhibitor = Chem.MolFromMolBlock(\"\"\" \n",
    " \n",
    " \n",
    " 11 11  0  0  1  0  0  0  0  0999 V2000\n",
    "   21.6300  -17.9200    0.0000 C   0  0  0  0  0  0  0  0  0  0  0  0\n",
    "   21.6300  -19.3200    0.0000 C   0  0  0  0  0  0  0  0  0  0  0  0\n",
    "   22.8424  -20.0200    0.0000 C   0  0  0  0  0  0  0  0  0  0  0  0\n",
    "   24.0549  -19.3200    0.0000 C   0  0  0  0  0  0  0  0  0  0  0  0\n",
    "   24.0549  -17.9200    0.0000 C   0  0  0  0  0  0  0  0  0  0  0  0\n",
    "   22.8424  -17.2200    0.0000 N   0  0  0  0  0  0  0  0  0  0  0  0\n",
    "   20.4176  -17.2200    0.0000 C   0  0  0  0  0  0  0  0  0  0  0  0\n",
    "   19.2221  -17.9104    0.0000 O   0  0  0  0  0  0  0  0  0  0  0  0\n",
    "   20.4176  -20.0200    0.0000 O   0  0  0  0  0  0  0  0  0  0  0  0\n",
    "   25.2860  -20.0310    0.0000 O   0  0  0  0  0  0  0  0  0  0  0  0\n",
    "   22.8424  -21.4198    0.0000 O   0  0  0  0  0  0  0  0  0  0  0  0\n",
    "  1  2  1  0     0  0\n",
    "  2  3  1  0     0  0\n",
    "  3  4  1  0     0  0\n",
    "  4  5  1  0     0  0\n",
    "  5  6  1  0     0  0\n",
    "  1  6  1  0     0  0\n",
    "  1  7  1  1     0  0\n",
    "  7  8  1  0     0  0\n",
    "  2  9  1  6     0  0\n",
    "  4 10  1  6     0  0\n",
    "  3 11  1  1     0  0\n",
    "M  END\"\"\")"
   ]
  },
  {
   "cell_type": "code",
   "execution_count": 55,
   "id": "abbd9a7b-2f5b-407c-b1cf-842fce58fe87",
   "metadata": {},
   "outputs": [],
   "source": [
    "rdkit.Chem.Draw.MolToFile(sugar, \"sugar.png\", size=(300, 300))\n",
    "\n",
    "#sugar"
   ]
  },
  {
   "cell_type": "code",
   "execution_count": 56,
   "id": "60e21cb1-3382-4864-87a9-b15ebe6dae06",
   "metadata": {},
   "outputs": [
    {
     "data": {
      "image/png": "[encoded data removed]",
      "text/plain": [
       "<rdkit.Chem.rdchem.Mol at 0x7ff0d7893c10>"
      ]
     },
     "execution_count": 56,
     "metadata": {},
     "output_type": "execute_result"
    }
   ],
   "source": [
    "rdkit.Chem.Draw.MolToFile(inhibitor, \"inhibitor.png\", size=(300, 300))\n",
    "\n",
    "inhibitor"
   ]
  },
  {
   "cell_type": "code",
   "execution_count": 11,
   "id": "e2259a00-2799-490e-a82f-3cbee9e23b3f",
   "metadata": {},
   "outputs": [
    {
     "name": "stdout",
     "output_type": "stream",
     "text": [
      "0.9208984375\n"
     ]
    }
   ],
   "source": [
    "map4_a = MAP4.calculate(sugar)\n",
    "map4_b = MAP4.calculate(inhibitor)\n",
    "print(ENC.get_distance(map4_a, map4_b))"
   ]
  },
  {
   "cell_type": "code",
   "execution_count": 60,
   "id": "eb5b5ab6-bf94-4070-b5da-3c9bab9b6328",
   "metadata": {},
   "outputs": [
    {
     "data": {
      "text/plain": [
       "(0.25925925925925924, False)"
      ]
     },
     "execution_count": 60,
     "metadata": {},
     "output_type": "execute_result"
    }
   ],
   "source": [
    "get_parity_score(sugar,inhibitor)"
   ]
  },
  {
   "cell_type": "code",
   "execution_count": 59,
   "id": "0b23f3c0-81b6-4cd4-acc8-e80549100298",
   "metadata": {},
   "outputs": [
    {
     "data": {
      "text/plain": [
       "'OC[C@H]1NC[C@H](O)[C@@H](O)[C@@H]1O'"
      ]
     },
     "execution_count": 59,
     "metadata": {},
     "output_type": "execute_result"
    }
   ],
   "source": [
    "Chem.MolToSmiles(inhibitor)"
   ]
  },
  {
   "cell_type": "code",
   "execution_count": 26,
   "id": "3589e206-e35e-4cd2-9f14-893767c37535",
   "metadata": {},
   "outputs": [
    {
     "name": "stdout",
     "output_type": "stream",
     "text": [
      "0.849609375\n",
      "Similarity score:  (0.8181818181818182, False)\n"
     ]
    }
   ],
   "source": [
    "cpd = Chem.MolFromMolBlock(\"\"\"\n",
    " \n",
    " \n",
    " 10  9  0  0  0  0  0  0  0  0999 V2000\n",
    "   27.7045  -20.9076    0.0000 C   0  0  0  0  0  0  0  0  0  0  0  0\n",
    "   26.4954  -20.2102    0.0000 C   0  0  0  0  0  0  0  0  0  0  0  0\n",
    "   28.9072  -20.2102    0.0000 C   0  0  0  0  0  0  0  0  0  0  0  0\n",
    "   27.7045  -22.3718    0.0000 O   0  0  0  0  0  0  0  0  0  0  0  0\n",
    "   25.2927  -20.9076    0.0000 C   0  0  0  0  0  0  0  0  0  0  0  0\n",
    "   30.1100  -20.9139    0.0000 O   0  0  0  0  0  0  0  0  0  0  0  0\n",
    "   28.9007  -18.8219    0.0000 O   0  0  0  0  0  0  0  0  0  0  0  0\n",
    "   24.0836  -20.2102    0.0000 C   0  0  0  0  0  0  0  0  0  0  0  0\n",
    "   24.0899  -18.8219    0.0000 O   0  0  0  0  0  0  0  0  0  0  0  0\n",
    "   22.8808  -20.9139    0.0000 O   0  0  0  0  0  0  0  0  0  0  0  0\n",
    "  1  2  1  0     0  0\n",
    "  1  3  1  0     0  0\n",
    "  1  4  2  0     0  0\n",
    "  2  5  1  0     0  0\n",
    "  3  6  1  0     0  0\n",
    "  3  7  2  0     0  0\n",
    "  5  8  1  0     0  0\n",
    "  8  9  2  0     0  0\n",
    "  8 10  1  0     0  0\n",
    "M  END\"\"\")\n",
    "\n",
    "pdb_lig = Chem.MolFromMolFile('OGA_model.sdf')\n",
    "map4_a = MAP4.calculate(cpd)\n",
    "map4_b = MAP4.calculate(pdb_lig)\n",
    "print(ENC.get_distance(map4_a, map4_b))\n",
    "score = get_parity_score(cpd,pdb_lig,ringmatches=True)\n",
    "print(\"Similarity score: \", score)"
   ]
  },
  {
   "cell_type": "code",
   "execution_count": 27,
   "id": "efc91d73-f9bd-4e17-a5c7-db2aeb123c67",
   "metadata": {},
   "outputs": [],
   "source": [
    "ms = [cpd, pdb_lig]"
   ]
  },
  {
   "cell_type": "code",
   "execution_count": 48,
   "id": "3b7a51b1-6084-441b-a274-727bcf3e4bac",
   "metadata": {},
   "outputs": [],
   "source": [
    "from rdkit.Chem import rdFingerprintGenerator\n",
    "from rdkit import DataStructs\n",
    "from rdkit import Avalon\n",
    "from rdkit.Avalon import pyAvalonTools"
   ]
  },
  {
   "cell_type": "code",
   "execution_count": 43,
   "id": "61d09ce3-9675-4ef0-b5ac-e3e5460028f0",
   "metadata": {},
   "outputs": [
    {
     "data": {
      "text/plain": [
       "0.12921348314606743"
      ]
     },
     "execution_count": 43,
     "metadata": {},
     "output_type": "execute_result"
    }
   ],
   "source": [
    "fpgen = rdFingerprintGenerator.GetRDKitFPGenerator()\n",
    "fps = [fpgen.GetFingerprint(x) for x in ms]\n",
    "DataStructs.TanimotoSimilarity(fps[0],fps[1])"
   ]
  },
  {
   "cell_type": "code",
   "execution_count": 50,
   "id": "399f8434-ce82-4a8a-a432-1910f5211f2a",
   "metadata": {},
   "outputs": [],
   "source": [
    "fp1 = pyAvalonTools.GetAvalonFP(ms[0])\n",
    "fp2 = pyAvalonTools.GetAvalonFP(ms[1])"
   ]
  },
  {
   "cell_type": "code",
   "execution_count": 51,
   "id": "74b705eb-1e64-453e-91d3-9ecde868324d",
   "metadata": {},
   "outputs": [
    {
     "data": {
      "text/plain": [
       "0.4375"
      ]
     },
     "execution_count": 51,
     "metadata": {},
     "output_type": "execute_result"
    }
   ],
   "source": [
    "DataStructs.TanimotoSimilarity(fp1,fp2)"
   ]
  },
  {
   "cell_type": "code",
   "execution_count": 8,
   "id": "ae75a31b-ddf0-4e67-9cf0-c1e3726c7c96",
   "metadata": {},
   "outputs": [],
   "source": [
    "import rdkit.Chem as Chem\n",
    "from rdkit.Chem import BRICS,Recap, rdFMCS\n",
    "from rdkit.Chem import Draw"
   ]
  },
  {
   "cell_type": "code",
   "execution_count": 9,
   "id": "6050cdeb-202f-475c-a230-4724426613c9",
   "metadata": {},
   "outputs": [],
   "source": [
    "def get_parity_score(mol1, mol2, print_structures = False, ringmatches = False,returnmcs = False, timeout = 300):\n",
    "    # Get the MCS of the two molecules\n",
    "    mcs_result = rdFMCS.FindMCS(\n",
    "        [mol1, mol2], \n",
    "        matchValences=False,\n",
    "        ringMatchesRingOnly= ringmatches,\n",
    "        atomCompare=rdFMCS.AtomCompare.CompareAny, \n",
    "        bondCompare=rdFMCS.BondCompare.CompareAny, timeout = timeout)\n",
    "    if mcs_result.canceled:\n",
    "        cancelled = True\n",
    "    else:\n",
    "        cancelled = False\n",
    "    # Convert the SMARTS string from the MCS result into a molecule\n",
    "    mcs_mol = Chem.MolFromSmarts(mcs_result.smartsString)\n",
    "\n",
    "    # Map the MCS back onto the original molecules and get the atom indices\n",
    "    mol1_match = mol1.GetSubstructMatch(mcs_mol)\n",
    "    mol2_match = mol2.GetSubstructMatch(mcs_mol)\n",
    "    \n",
    "    if print_structures:\n",
    "        # Draw the molecules and the MCS\n",
    "        Draw.MolToMPL(mol1, size=(200,200), kekulize=True, title='Molecule 1')\n",
    "        Draw.MolToMPL(mol2, size=(200,200), kekulize=True, title='Molecule 2')\n",
    "        Draw.MolToMPL(mcs_mol, size=(200,200), kekulize=True, title='MCS')\n",
    "    # Compare the atom types at each matched position\n",
    "    Nsim = 0\n",
    "    for idx1, idx2 in zip(mol1_match, mol2_match):\n",
    "        atom1 = mol1.GetAtomWithIdx(idx1)\n",
    "        atom2 = mol2.GetAtomWithIdx(idx2)\n",
    "        if atom1.GetAtomicNum() == atom2.GetAtomicNum():\n",
    "            Nsim += 1\n",
    "\n",
    "    # Compute PARITY similarity score\n",
    "    NB = mol1.GetNumAtoms()\n",
    "    NC = mol2.GetNumAtoms()\n",
    "    score = Nsim / (NB + NC - Nsim)\n",
    "    if returnmcs:\n",
    "        return score, cancelled, mcs_mol\n",
    "    else:\n",
    "        return score, cancelled"
   ]
  },
  {
   "cell_type": "code",
   "execution_count": 10,
   "id": "ba67856b-b75a-480e-85ca-b84cbacd09d5",
   "metadata": {},
   "outputs": [
    {
     "data": {
      "text/plain": [
       "(0.25925925925925924, False)"
      ]
     },
     "execution_count": 10,
     "metadata": {},
     "output_type": "execute_result"
    }
   ],
   "source": [
    "get_parity_score(sugar,inhibitor)"
   ]
  }
 ],
 "metadata": {
  "kernelspec": {
   "display_name": "Python [conda env:map4]",
   "language": "python",
   "name": "conda-env-map4-py"
  },
  "language_info": {
   "codemirror_mode": {
    "name": "ipython",
    "version": 3
   },
   "file_extension": ".py",
   "mimetype": "text/x-python",
   "name": "python",
   "nbconvert_exporter": "python",
   "pygments_lexer": "ipython3",
   "version": "3.6.13"
  }
 },
 "nbformat": 4,
 "nbformat_minor": 5
}
